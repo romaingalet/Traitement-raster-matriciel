{
 "cells": [
  {
   "cell_type": "code",
   "execution_count": 4,
   "metadata": {
    "scrolled": true
   },
   "outputs": [
    {
     "data": {
      "image/png": "[encoded data removed]",
      "text/plain": [
       "<Figure size 432x288 with 2 Axes>"
      ]
     },
     "metadata": {
      "needs_background": "light"
     },
     "output_type": "display_data"
    },
    {
     "name": "stdout",
     "output_type": "stream",
     "text": [
      "    pyr_ocs  nb  id_pyr  pyr_id  nb_tot  ratio  ocs\n",
      "0       201   3       2       2       3  100.0    1\n",
      "1       301   5       3       3       5  100.0    1\n",
      "2       401   1       4       4       7   14.0    1\n",
      "3       402   4       4       4       7   57.0    2\n",
      "4       403   1       4       4       7   14.0    3\n",
      "5       404   1       4       4       7   14.0    4\n",
      "6       503   3       5       5       4   75.0    3\n",
      "7       504   1       5       5       4   25.0    4\n",
      "8       602   3       6       6       3  100.0    2\n",
      "9       701   1       7       7       3   33.0    1\n",
      "10      702   2       7       7       3   67.0    2\n",
      "ocs         1      2     3     4\n",
      "id_pyr                          \n",
      "2       100.0    NaN   NaN   NaN\n",
      "3       100.0    NaN   NaN   NaN\n",
      "4        14.0   57.0  14.0  14.0\n",
      "5         NaN    NaN  75.0  25.0\n",
      "6         NaN  100.0   NaN   NaN\n",
      "7        33.0   67.0   NaN   NaN\n"
     ]
    }
   ],
   "source": [
    "import matplotlib.pyplot as plt\n",
    "import rasterio\n",
    "\n",
    "import numpy as np\n",
    "import pandas as pd\n",
    "\n",
    "# Un raster ocs sommaire\n",
    "l1 = [\n",
    "    [1,1,1,1,1],\n",
    "    [1,1,1,1,2],\n",
    "    [1,2,2,2,4],\n",
    "    [2,2,2,3,4],\n",
    "    [2,2,3,3,3],\n",
    "]\n",
    "\n",
    "# La segmentation PyRam définie sur la même emprise\n",
    "l2 = [\n",
    "    [2,2,3,3,3],\n",
    "    [2,3,3,4,4],\n",
    "    [7,7,4,4,4],\n",
    "    [6,7,4,4,5],\n",
    "    [6,6,5,5,5],\n",
    "]\n",
    "\n",
    "# En numpy array\n",
    "ocs = np.array(l1)\n",
    "pyr = np.array(l2)\n",
    "\n",
    "# En vue de former la matrice composée de l'id Pyram & de la classe OCS\n",
    "pyr_100 = 100*pyr\n",
    "\n",
    "# Facultatif > Aff sous pyplot ...\n",
    "o, p = list(map(lambda npa: npa.astype(float),[ ocs, pyr]))\n",
    "\n",
    "fig, axs = plt.subplots(2)\n",
    "axs[0].imshow(o, cmap='Greens')\n",
    "axs[1].imshow(p, cmap='plasma')\n",
    "plt.show()\n",
    "\n",
    "# Juxtaposition P+O\n",
    "o_p = ocs + pyr_100\n",
    "\n",
    "# Segments PyRam uniques et décompte\n",
    "ct = np.vstack([np.unique(pyr, return_counts=True)]).T\n",
    "\n",
    "# Décompte Segments + classes OCS\n",
    "ct_o_p = np.vstack([np.unique(o_p, return_counts=True)]).T\n",
    "\n",
    "# Conv. en pandas df\n",
    "pd_pyr = pd.DataFrame(ct, columns=['pyr_id', 'nb_tot'])\n",
    "pd_o_p = pd.DataFrame(ct_o_p, columns=['pyr_ocs', 'nb'])\n",
    "pd_o_p['id_pyr'] = pd_o_p['pyr_ocs']//100\n",
    "\n",
    "# Jointure et calcul ratio de compo OCS sur chaque segm. Pyr\n",
    "ct_merge = pd.merge(pd_o_p,\n",
    "         pd_pyr,\n",
    "         how='inner',\n",
    "         left_on='id_pyr',\n",
    "         right_on='pyr_id')\n",
    "\n",
    "ct_merge['ratio'] = round(ct_merge['nb']/ct_merge['nb_tot'], 2)*100\n",
    "# Récup n° cl. ocs\n",
    "ct_merge['ocs'] = ct_merge['pyr_ocs']%100\n",
    "\n",
    "print(ct_merge)\n",
    "\n",
    "# Pivot avec affichage de classe ocs en colonnes en vue d'appliquer la fn `apply`\n",
    "# déterminant la classe définie dans la nomenclature BDF v2\n",
    "piv = ct_merge.pivot(index='id_pyr', columns='ocs', values='ratio')\n",
    "print(piv)\n"
   ]
  },
  {
   "cell_type": "code",
   "execution_count": null,
   "metadata": {},
   "outputs": [],
   "source": []
  }
 ],
 "metadata": {
  "kernelspec": {
   "display_name": "Python 3",
   "language": "python",
   "name": "python3"
  },
  "language_info": {
   "codemirror_mode": {
    "name": "ipython",
    "version": 3
   },
   "file_extension": ".py",
   "mimetype": "text/x-python",
   "name": "python",
   "nbconvert_exporter": "python",
   "pygments_lexer": "ipython3",
   "version": "3.8.5"
  }
 },
 "nbformat": 4,
 "nbformat_minor": 4
}
